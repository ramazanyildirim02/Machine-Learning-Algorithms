{
 "cells": [
  {
   "cell_type": "code",
   "execution_count": 38,
   "id": "a0e1979f",
   "metadata": {},
   "outputs": [],
   "source": [
    "import numpy as np\n",
    "import pandas as pd\n",
    "import matplotlib.pyplot as plt"
   ]
  },
  {
   "cell_type": "code",
   "execution_count": 39,
   "id": "fa49efa3",
   "metadata": {},
   "outputs": [
    {
     "data": {
      "text/html": [
       "<div>\n",
       "<style scoped>\n",
       "    .dataframe tbody tr th:only-of-type {\n",
       "        vertical-align: middle;\n",
       "    }\n",
       "\n",
       "    .dataframe tbody tr th {\n",
       "        vertical-align: top;\n",
       "    }\n",
       "\n",
       "    .dataframe thead th {\n",
       "        text-align: right;\n",
       "    }\n",
       "</style>\n",
       "<table border=\"1\" class=\"dataframe\">\n",
       "  <thead>\n",
       "    <tr style=\"text-align: right;\">\n",
       "      <th></th>\n",
       "      <th>unvan</th>\n",
       "      <th>Egitim Seviyesi</th>\n",
       "      <th>maas</th>\n",
       "    </tr>\n",
       "  </thead>\n",
       "  <tbody>\n",
       "    <tr>\n",
       "      <th>0</th>\n",
       "      <td>Cayci</td>\n",
       "      <td>1</td>\n",
       "      <td>2250</td>\n",
       "    </tr>\n",
       "    <tr>\n",
       "      <th>1</th>\n",
       "      <td>Sekreter</td>\n",
       "      <td>2</td>\n",
       "      <td>2500</td>\n",
       "    </tr>\n",
       "    <tr>\n",
       "      <th>2</th>\n",
       "      <td>Uzman Yardimcisi</td>\n",
       "      <td>3</td>\n",
       "      <td>3000</td>\n",
       "    </tr>\n",
       "    <tr>\n",
       "      <th>3</th>\n",
       "      <td>Uzman</td>\n",
       "      <td>4</td>\n",
       "      <td>4000</td>\n",
       "    </tr>\n",
       "    <tr>\n",
       "      <th>4</th>\n",
       "      <td>Proje Yoneticisi</td>\n",
       "      <td>5</td>\n",
       "      <td>5500</td>\n",
       "    </tr>\n",
       "    <tr>\n",
       "      <th>5</th>\n",
       "      <td>Sef</td>\n",
       "      <td>6</td>\n",
       "      <td>7500</td>\n",
       "    </tr>\n",
       "    <tr>\n",
       "      <th>6</th>\n",
       "      <td>Mudur</td>\n",
       "      <td>7</td>\n",
       "      <td>10000</td>\n",
       "    </tr>\n",
       "    <tr>\n",
       "      <th>7</th>\n",
       "      <td>Direktor</td>\n",
       "      <td>8</td>\n",
       "      <td>15000</td>\n",
       "    </tr>\n",
       "    <tr>\n",
       "      <th>8</th>\n",
       "      <td>C-level</td>\n",
       "      <td>9</td>\n",
       "      <td>25000</td>\n",
       "    </tr>\n",
       "    <tr>\n",
       "      <th>9</th>\n",
       "      <td>CEO</td>\n",
       "      <td>10</td>\n",
       "      <td>50000</td>\n",
       "    </tr>\n",
       "  </tbody>\n",
       "</table>\n",
       "</div>"
      ],
      "text/plain": [
       "              unvan  Egitim Seviyesi   maas\n",
       "0             Cayci                1   2250\n",
       "1          Sekreter                2   2500\n",
       "2  Uzman Yardimcisi                3   3000\n",
       "3             Uzman                4   4000\n",
       "4  Proje Yoneticisi                5   5500\n",
       "5               Sef                6   7500\n",
       "6             Mudur                7  10000\n",
       "7          Direktor                8  15000\n",
       "8           C-level                9  25000\n",
       "9               CEO               10  50000"
      ]
     },
     "execution_count": 39,
     "metadata": {},
     "output_type": "execute_result"
    }
   ],
   "source": [
    "dataFrame = pd.read_csv(\"maaslar.csv\")\n",
    "dataFrame"
   ]
  },
  {
   "cell_type": "code",
   "execution_count": 40,
   "id": "c12cf42a",
   "metadata": {},
   "outputs": [],
   "source": [
    "X = dataFrame.iloc[:,1].values.reshape(-1,1)\n",
    "Y = dataFrame.iloc[:,-1].values"
   ]
  },
  {
   "cell_type": "markdown",
   "id": "57a284b7",
   "metadata": {},
   "source": [
    "Eldeki veri seti çok büyük olmadığı için train ve test verileri olarak parçalamayıp tüm verileri train edeceğim"
   ]
  },
  {
   "cell_type": "markdown",
   "id": "cfec2b7f",
   "metadata": {},
   "source": [
    "# Model inşası"
   ]
  },
  {
   "cell_type": "code",
   "execution_count": 41,
   "id": "21147502",
   "metadata": {},
   "outputs": [],
   "source": [
    "from sklearn.linear_model import LinearRegression"
   ]
  },
  {
   "cell_type": "code",
   "execution_count": 42,
   "id": "5f22a17a",
   "metadata": {},
   "outputs": [
    {
     "data": {
      "text/plain": [
       "[<matplotlib.lines.Line2D at 0x7faa6f4338b0>]"
      ]
     },
     "execution_count": 42,
     "metadata": {},
     "output_type": "execute_result"
    },
    {
     "data": {
      "image/png": "[encoded data removed]",
      "text/plain": [
       "<Figure size 640x480 with 1 Axes>"
      ]
     },
     "metadata": {},
     "output_type": "display_data"
    }
   ],
   "source": [
    "lin_reg = LinearRegression()\n",
    "lin_reg.fit(X,Y)\n",
    "\n",
    "plt.scatter(X,Y,color= \"red\")\n",
    "plt.plot(X,lin_reg.predict(X))"
   ]
  },
  {
   "cell_type": "markdown",
   "id": "98b37480",
   "metadata": {},
   "source": [
    "Eldeki grafiğe bakınca modelle verilerin uyuşmadığını görüyoruz.Bu veriler için polinomal regresyon kullanmak daha mantıklı"
   ]
  },
  {
   "cell_type": "code",
   "execution_count": 43,
   "id": "e6099a1b",
   "metadata": {},
   "outputs": [],
   "source": [
    "from sklearn.preprocessing import PolynomialFeatures"
   ]
  },
  {
   "cell_type": "code",
   "execution_count": 44,
   "id": "51887d49",
   "metadata": {},
   "outputs": [
    {
     "data": {
      "text/plain": [
       "array([[  1.,   1.,   1.],\n",
       "       [  1.,   2.,   4.],\n",
       "       [  1.,   3.,   9.],\n",
       "       [  1.,   4.,  16.],\n",
       "       [  1.,   5.,  25.],\n",
       "       [  1.,   6.,  36.],\n",
       "       [  1.,   7.,  49.],\n",
       "       [  1.,   8.,  64.],\n",
       "       [  1.,   9.,  81.],\n",
       "       [  1.,  10., 100.]])"
      ]
     },
     "execution_count": 44,
     "metadata": {},
     "output_type": "execute_result"
    }
   ],
   "source": [
    "poly_reg = PolynomialFeatures(degree = 2)\n",
    "poly_X = poly_reg.fit_transform(X)\n",
    "poly_X"
   ]
  },
  {
   "cell_type": "markdown",
   "id": "c3a920cc",
   "metadata": {},
   "source": [
    "Şimdi polinomal hale gelen train verilerinden tekrar model oluşturalım"
   ]
  },
  {
   "cell_type": "code",
   "execution_count": 45,
   "id": "a35d426e",
   "metadata": {},
   "outputs": [
    {
     "data": {
      "text/plain": [
       "[<matplotlib.lines.Line2D at 0x7faa6f49e7d0>]"
      ]
     },
     "execution_count": 45,
     "metadata": {},
     "output_type": "execute_result"
    },
    {
     "data": {
      "image/png": "[encoded data removed]",
      "text/plain": [
       "<Figure size 640x480 with 1 Axes>"
      ]
     },
     "metadata": {},
     "output_type": "display_data"
    }
   ],
   "source": [
    "lin_reg2 = LinearRegression()\n",
    "lin_reg2.fit(poly_X,Y)\n",
    "\n",
    "plt.scatter(X,Y,color = \"red\")\n",
    "plt.plot(X,lin_reg2.predict(poly_X))"
   ]
  },
  {
   "cell_type": "markdown",
   "id": "2b9d5549",
   "metadata": {},
   "source": [
    "İlk modele göre daha başarılı. Ama polinom derecesini 2 den 4 e çıkaralım."
   ]
  },
  {
   "cell_type": "code",
   "execution_count": 46,
   "id": "4250b3ff",
   "metadata": {},
   "outputs": [
    {
     "data": {
      "text/plain": [
       "array([[1.000e+00, 1.000e+00, 1.000e+00, 1.000e+00, 1.000e+00],\n",
       "       [1.000e+00, 2.000e+00, 4.000e+00, 8.000e+00, 1.600e+01],\n",
       "       [1.000e+00, 3.000e+00, 9.000e+00, 2.700e+01, 8.100e+01],\n",
       "       [1.000e+00, 4.000e+00, 1.600e+01, 6.400e+01, 2.560e+02],\n",
       "       [1.000e+00, 5.000e+00, 2.500e+01, 1.250e+02, 6.250e+02],\n",
       "       [1.000e+00, 6.000e+00, 3.600e+01, 2.160e+02, 1.296e+03],\n",
       "       [1.000e+00, 7.000e+00, 4.900e+01, 3.430e+02, 2.401e+03],\n",
       "       [1.000e+00, 8.000e+00, 6.400e+01, 5.120e+02, 4.096e+03],\n",
       "       [1.000e+00, 9.000e+00, 8.100e+01, 7.290e+02, 6.561e+03],\n",
       "       [1.000e+00, 1.000e+01, 1.000e+02, 1.000e+03, 1.000e+04]])"
      ]
     },
     "execution_count": 46,
     "metadata": {},
     "output_type": "execute_result"
    }
   ],
   "source": [
    "poly_reg2 = PolynomialFeatures(degree = 4)\n",
    "poly_X2 = poly_reg2.fit_transform(X)\n",
    "poly_X2"
   ]
  },
  {
   "cell_type": "code",
   "execution_count": 47,
   "id": "3b96b149",
   "metadata": {},
   "outputs": [
    {
     "data": {
      "text/plain": [
       "[<matplotlib.lines.Line2D at 0x7faa6f5134c0>]"
      ]
     },
     "execution_count": 47,
     "metadata": {},
     "output_type": "execute_result"
    },
    {
     "data": {
      "image/png": "[encoded data removed]",
      "text/plain": [
       "<Figure size 640x480 with 1 Axes>"
      ]
     },
     "metadata": {},
     "output_type": "display_data"
    }
   ],
   "source": [
    "lin_reg_last = LinearRegression()\n",
    "lin_reg_last.fit(poly_X2,Y)\n",
    "\n",
    "plt.scatter(X,Y,color = \"red\")\n",
    "plt.plot(X,lin_reg_last.predict(poly_X2))"
   ]
  },
  {
   "cell_type": "code",
   "execution_count": 48,
   "id": "6ade622a",
   "metadata": {},
   "outputs": [
    {
     "data": {
      "text/plain": [
       "array([8146.9948718])"
      ]
     },
     "execution_count": 48,
     "metadata": {},
     "output_type": "execute_result"
    }
   ],
   "source": [
    "# Bir de herhangi bir değer verirsek nasıl tahmin eder ona bakalım.\n",
    "lin_reg_last.predict(poly_reg2.fit_transform([[6.6]]))"
   ]
  },
  {
   "cell_type": "code",
   "execution_count": 49,
   "id": "b0976aac",
   "metadata": {},
   "outputs": [
    {
     "data": {
      "text/html": [
       "<div>\n",
       "<style scoped>\n",
       "    .dataframe tbody tr th:only-of-type {\n",
       "        vertical-align: middle;\n",
       "    }\n",
       "\n",
       "    .dataframe tbody tr th {\n",
       "        vertical-align: top;\n",
       "    }\n",
       "\n",
       "    .dataframe thead th {\n",
       "        text-align: right;\n",
       "    }\n",
       "</style>\n",
       "<table border=\"1\" class=\"dataframe\">\n",
       "  <thead>\n",
       "    <tr style=\"text-align: right;\">\n",
       "      <th></th>\n",
       "      <th>Lineer Model</th>\n",
       "      <th>2.Derece Polinomal Model</th>\n",
       "      <th>4.Derece Polinomal Model</th>\n",
       "      <th>Gerçek Değer</th>\n",
       "    </tr>\n",
       "  </thead>\n",
       "  <tbody>\n",
       "    <tr>\n",
       "      <th>0</th>\n",
       "      <td>-5722.727273</td>\n",
       "      <td>5936.363636</td>\n",
       "      <td>2667.832168</td>\n",
       "      <td>2250</td>\n",
       "    </tr>\n",
       "    <tr>\n",
       "      <th>1</th>\n",
       "      <td>-1678.787879</td>\n",
       "      <td>2207.575758</td>\n",
       "      <td>1587.995338</td>\n",
       "      <td>2500</td>\n",
       "    </tr>\n",
       "    <tr>\n",
       "      <th>2</th>\n",
       "      <td>2365.151515</td>\n",
       "      <td>421.969697</td>\n",
       "      <td>2932.109557</td>\n",
       "      <td>3000</td>\n",
       "    </tr>\n",
       "    <tr>\n",
       "      <th>3</th>\n",
       "      <td>6409.090909</td>\n",
       "      <td>579.545455</td>\n",
       "      <td>4731.643357</td>\n",
       "      <td>4000</td>\n",
       "    </tr>\n",
       "    <tr>\n",
       "      <th>4</th>\n",
       "      <td>10453.030303</td>\n",
       "      <td>2680.303030</td>\n",
       "      <td>6086.247086</td>\n",
       "      <td>5500</td>\n",
       "    </tr>\n",
       "    <tr>\n",
       "      <th>5</th>\n",
       "      <td>14496.969697</td>\n",
       "      <td>6724.242424</td>\n",
       "      <td>7163.752914</td>\n",
       "      <td>7500</td>\n",
       "    </tr>\n",
       "    <tr>\n",
       "      <th>6</th>\n",
       "      <td>18540.909091</td>\n",
       "      <td>12711.363636</td>\n",
       "      <td>9200.174825</td>\n",
       "      <td>10000</td>\n",
       "    </tr>\n",
       "    <tr>\n",
       "      <th>7</th>\n",
       "      <td>22584.848485</td>\n",
       "      <td>20641.666667</td>\n",
       "      <td>14499.708625</td>\n",
       "      <td>15000</td>\n",
       "    </tr>\n",
       "    <tr>\n",
       "      <th>8</th>\n",
       "      <td>26628.787879</td>\n",
       "      <td>30515.151515</td>\n",
       "      <td>26434.731935</td>\n",
       "      <td>25000</td>\n",
       "    </tr>\n",
       "    <tr>\n",
       "      <th>9</th>\n",
       "      <td>30672.727273</td>\n",
       "      <td>42331.818182</td>\n",
       "      <td>49445.804196</td>\n",
       "      <td>50000</td>\n",
       "    </tr>\n",
       "  </tbody>\n",
       "</table>\n",
       "</div>"
      ],
      "text/plain": [
       "   Lineer Model  2.Derece Polinomal Model  4.Derece Polinomal Model  \\\n",
       "0  -5722.727273               5936.363636               2667.832168   \n",
       "1  -1678.787879               2207.575758               1587.995338   \n",
       "2   2365.151515                421.969697               2932.109557   \n",
       "3   6409.090909                579.545455               4731.643357   \n",
       "4  10453.030303               2680.303030               6086.247086   \n",
       "5  14496.969697               6724.242424               7163.752914   \n",
       "6  18540.909091              12711.363636               9200.174825   \n",
       "7  22584.848485              20641.666667              14499.708625   \n",
       "8  26628.787879              30515.151515              26434.731935   \n",
       "9  30672.727273              42331.818182              49445.804196   \n",
       "\n",
       "   Gerçek Değer  \n",
       "0          2250  \n",
       "1          2500  \n",
       "2          3000  \n",
       "3          4000  \n",
       "4          5500  \n",
       "5          7500  \n",
       "6         10000  \n",
       "7         15000  \n",
       "8         25000  \n",
       "9         50000  "
      ]
     },
     "execution_count": 49,
     "metadata": {},
     "output_type": "execute_result"
    }
   ],
   "source": [
    "linear_model = pd.DataFrame(data=lin_reg.predict(X),columns=[\"Lineer Model\"])\n",
    "polynomial_deg2 = pd.DataFrame(data=lin_reg2.predict(poly_X),columns=[\"2.Derece Polinomal Model\"])\n",
    "polynomial_deg4 = pd.DataFrame(data=lin_reg_last.predict(poly_X2),columns=[\"4.Derece Polinomal Model\"])\n",
    "Y_df = pd.DataFrame(data=Y,columns=[\"Gerçek Değer\"])\n",
    "\n",
    "compare = pd.concat([linear_model,polynomial_deg2,polynomial_deg4,Y_df],axis=1)\n",
    "compare\n"
   ]
  },
  {
   "cell_type": "markdown",
   "id": "ed3a0079",
   "metadata": {},
   "source": [
    "Yukarıdaki tabloya göre en son oluşturulan lin_reg_last isimli modelin 3 modelden en başarılısı olduğu görülüyor."
   ]
  }
 ],
 "metadata": {
  "kernelspec": {
   "display_name": "Python 3 (ipykernel)",
   "language": "python",
   "name": "python3"
  },
  "language_info": {
   "codemirror_mode": {
    "name": "ipython",
    "version": 3
   },
   "file_extension": ".py",
   "mimetype": "text/x-python",
   "name": "python",
   "nbconvert_exporter": "python",
   "pygments_lexer": "ipython3",
   "version": "3.10.9"
  }
 },
 "nbformat": 4,
 "nbformat_minor": 5
}
